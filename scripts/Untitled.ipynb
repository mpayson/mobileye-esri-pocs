{
 "cells": [
  {
   "cell_type": "code",
   "execution_count": 13,
   "metadata": {},
   "outputs": [],
   "source": [
    "from arcgis.gis import GIS\n",
    "from arcgis.mapping import WebMap\n",
    "from arcgis.features import FeatureLayer"
   ]
  },
  {
   "cell_type": "code",
   "execution_count": 2,
   "metadata": {},
   "outputs": [
    {
     "name": "stdin",
     "output_type": "stream",
     "text": [
      "Enter password:  ········\n"
     ]
    }
   ],
   "source": [
    "gis = GIS(username=\"mpayson_startups\")"
   ]
  },
  {
   "cell_type": "code",
   "execution_count": 16,
   "metadata": {},
   "outputs": [
    {
     "data": {
      "text/html": [
       "<div>\n",
       "<style scoped>\n",
       "    .dataframe tbody tr th:only-of-type {\n",
       "        vertical-align: middle;\n",
       "    }\n",
       "\n",
       "    .dataframe tbody tr th {\n",
       "        vertical-align: top;\n",
       "    }\n",
       "\n",
       "    .dataframe thead th {\n",
       "        text-align: right;\n",
       "    }\n",
       "</style>\n",
       "<table border=\"1\" class=\"dataframe\">\n",
       "  <thead>\n",
       "    <tr style=\"text-align: right;\">\n",
       "      <th></th>\n",
       "      <th>eventtimestamp</th>\n",
       "      <th>eventtype</th>\n",
       "      <th>eventsubtype</th>\n",
       "      <th>eventvalue</th>\n",
       "      <th>project</th>\n",
       "      <th>segment_id</th>\n",
       "      <th>pedestrians_density</th>\n",
       "      <th>bicycles_density</th>\n",
       "      <th>harsh_cornering_ratio</th>\n",
       "      <th>harsh_acc_ratio</th>\n",
       "      <th>speeding_ratio</th>\n",
       "      <th>avarge_speed</th>\n",
       "      <th>speed_skuness</th>\n",
       "      <th>ObjectId</th>\n",
       "      <th>Shape__Length</th>\n",
       "      <th>SHAPE</th>\n",
       "    </tr>\n",
       "  </thead>\n",
       "  <tbody>\n",
       "    <tr>\n",
       "      <td>0</td>\n",
       "      <td>2019-10-17 15:52:02.295000076</td>\n",
       "      <td>Road_safety_score</td>\n",
       "      <td>v_0</td>\n",
       "      <td>2.333333</td>\n",
       "      <td>bmw-kafas4</td>\n",
       "      <td>27236748</td>\n",
       "      <td>0.0</td>\n",
       "      <td>0.0</td>\n",
       "      <td>6.666667</td>\n",
       "      <td>0.0</td>\n",
       "      <td>0.0</td>\n",
       "      <td>80.61939</td>\n",
       "      <td>0.0</td>\n",
       "      <td>1</td>\n",
       "      <td>60.492921</td>\n",
       "      <td>{\"paths\": [[[-8309575.97177744, 4959796.511928...</td>\n",
       "    </tr>\n",
       "    <tr>\n",
       "      <td>1</td>\n",
       "      <td>2019-10-17 15:52:02.295000076</td>\n",
       "      <td>Road_safety_score</td>\n",
       "      <td>v_0</td>\n",
       "      <td>3.181818</td>\n",
       "      <td>bmw-kafas4</td>\n",
       "      <td>27236748</td>\n",
       "      <td>0.0</td>\n",
       "      <td>0.0</td>\n",
       "      <td>9.090909</td>\n",
       "      <td>0.0</td>\n",
       "      <td>0.0</td>\n",
       "      <td>83.26849</td>\n",
       "      <td>0.0</td>\n",
       "      <td>2</td>\n",
       "      <td>167.692321</td>\n",
       "      <td>{\"paths\": [[[-8309573.52274864, 4959736.068601...</td>\n",
       "    </tr>\n",
       "  </tbody>\n",
       "</table>\n",
       "</div>"
      ],
      "text/plain": [
       "                 eventtimestamp          eventtype eventsubtype  eventvalue  \\\n",
       "0 2019-10-17 15:52:02.295000076  Road_safety_score          v_0    2.333333   \n",
       "1 2019-10-17 15:52:02.295000076  Road_safety_score          v_0    3.181818   \n",
       "\n",
       "      project  segment_id  pedestrians_density  bicycles_density  \\\n",
       "0  bmw-kafas4    27236748                  0.0               0.0   \n",
       "1  bmw-kafas4    27236748                  0.0               0.0   \n",
       "\n",
       "   harsh_cornering_ratio  harsh_acc_ratio  speeding_ratio  avarge_speed  \\\n",
       "0               6.666667              0.0             0.0      80.61939   \n",
       "1               9.090909              0.0             0.0      83.26849   \n",
       "\n",
       "   speed_skuness  ObjectId  Shape__Length  \\\n",
       "0            0.0         1      60.492921   \n",
       "1            0.0         2     167.692321   \n",
       "\n",
       "                                               SHAPE  \n",
       "0  {\"paths\": [[[-8309575.97177744, 4959796.511928...  \n",
       "1  {\"paths\": [[[-8309573.52274864, 4959736.068601...  "
      ]
     },
     "execution_count": 16,
     "metadata": {},
     "output_type": "execute_result"
    }
   ],
   "source": [
    "# get web map item\n",
    "wm_item = gis.content.get('906b58f399944774a29e05d3d24a939b')\n",
    "webmap = WebMap(wm_item)\n",
    "layers = webmap.layers\n",
    "\n",
    "# get risk score layer, for now it's the only one\n",
    "fl_props = layers[0]\n",
    "fl = FeatureLayer(fl_props.url)\n",
    "\n",
    "# query the data into a dataframe\n",
    "sdf = fl.query(as_df=True)\n",
    "sdf.head(2)"
   ]
  },
  {
   "cell_type": "code",
   "execution_count": 17,
   "metadata": {},
   "outputs": [
    {
     "data": {
      "text/plain": [
       "0.3     2.500000\n",
       "0.7     5.645267\n",
       "0.9    12.500000\n",
       "Name: eventvalue, dtype: float64"
      ]
     },
     "execution_count": 17,
     "metadata": {},
     "output_type": "execute_result"
    }
   ],
   "source": [
    "quantiles = sdf.eventvalue.quantile([.3,.7,.9])\n",
    "quantiles"
   ]
  },
  {
   "cell_type": "code",
   "execution_count": null,
   "metadata": {},
   "outputs": [],
   "source": []
  }
 ],
 "metadata": {
  "kernelspec": {
   "display_name": "Python 3",
   "language": "python",
   "name": "python3"
  },
  "language_info": {
   "codemirror_mode": {
    "name": "ipython",
    "version": 3
   },
   "file_extension": ".py",
   "mimetype": "text/x-python",
   "name": "python",
   "nbconvert_exporter": "python",
   "pygments_lexer": "ipython3",
   "version": "3.7.4"
  }
 },
 "nbformat": 4,
 "nbformat_minor": 4
}
